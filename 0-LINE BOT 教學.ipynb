{
 "cells": [
  {
   "cell_type": "markdown",
   "metadata": {},
   "source": [
    "##### LINE BOT 教學\n",
    "本篇文章彙整了一系列 LINE BOT 教學，只要按照教學文的順序閱讀和實作，就可以輕鬆開發出屬於自己的 LINE BOT，並使用 LINE BOT 串接許多網路爬蟲的應用，\\\n",
    "做出別具的色的 LINE 聊天機器人。"
   ]
  },
  {
   "cell_type": "markdown",
   "metadata": {},
   "source": [
    "##### 環境安裝與設定 \n",
    "下面這幾篇文章，會介紹一個完整的 LINE BOT 所需要用到的 Python 函式庫，並建立 LINE BOT 的開發環境，只要按照文章的說明安裝，\\\n",
    "就可以開始進行 LINE BOT 的開發。\n",
    "* Flask 函式庫\n",
    "* 使用 ngrok 服務\n",
    "* 設定 Colab 開發環境\n",
    "* 建立 LINE Channel\n",
    "* 建立並串接 Webhook"
   ]
  },
  {
   "cell_type": "markdown",
   "metadata": {},
   "source": [
    "##### 解析與傳送 LINE 訊息 \n",
    "下面這幾篇文章，會介紹 LINE 的訊息格式，並實作接收與傳送訊息的功能。\n",
    "* 解析 LINE 的訊息\n",
    "* 自動回覆訊息\n",
    "* 主動推播訊息\n",
    "* 使用 Requests 傳送訊息\n",
    "* 使用 LINE URL Scheme\n",
    "* 儲存使用者的圖片或影片\n",
    "* 串接 Email，寄送使用者的圖片或影片"
   ]
  },
  {
   "cell_type": "markdown",
   "metadata": {},
   "source": [
    "##### LINE 訊息類型與圖文選單 \n",
    "下面這幾篇文章，會介紹 LINE 其他的訊息類型，以及建立 LINE 聊天畫面中的圖文選單。\n",
    "* 發送樣板訊息\n",
    "* 發送 Flex Message\n",
    "* 建立圖文選單\n",
    "* 切換圖文選單"
   ]
  },
  {
   "cell_type": "markdown",
   "metadata": {},
   "source": [
    "##### 實戰 LINE BOT \n",
    "下面這幾篇文章，會一步步的引導製作出一個 LINE BOT ( LINE 聊天機器人 )。\n",
    "* 使用 Google Cloud Functions\n",
    "* 氣象機器人 (1) - 雷達回波與地震資訊\n",
    "* 氣象機器人 (2) - 目前氣象資訊\n",
    "* 氣象機器人 (3) - 天氣預報和空氣品質\n",
    "* 氣象機器人 (4) - 加入圖文選單和部署程式"
   ]
  },
  {
   "cell_type": "markdown",
   "metadata": {},
   "source": [
    "##### 串接 Google 雲端硬碟 \n",
    "下面這幾篇文章，會將 LINE BOT 與 Google 雲端硬碟串接，讓使用者可以透過 LINE 上傳圖片到 Google 雲端硬碟。\n",
    "* 上傳檔案到 Google 雲端硬碟 ( Google Drive )\n",
    "* 透過 LINE 上傳圖片到 Google 雲端義硬碟"
   ]
  },
  {
   "cell_type": "markdown",
   "metadata": {},
   "source": [
    "##### 串接 Dialogflow \n",
    "下面這幾篇文章，會將 LINE BOT 串接 Google Dialogflow 服務，做出可以理解自然語言的聊天機器人。\n",
    "* 使用 Dialogflow 打造聊天機器人\n",
    "* Dialogflow 串接 Webhook\n",
    "* 伺服器串接 Dialogflow\n",
    "* LINE BOT 串接 Dialogflow ( 基本串接 )\n",
    "* LINE BOT 串接 Dialogflow ( 搭配外部 Webhook )\n",
    "* LINE BOT 串接 Dialogflow ( 氣象聊天機器人 )"
   ]
  },
  {
   "cell_type": "markdown",
   "metadata": {},
   "source": [
    "##### 串接 OpenAI ChatGPT \n",
    "下面這幾篇文章，會將 LINE BOT 串接 OpenAI 服務，做出可以和 AI 聊天的聊天機器人。\n",
    "* 使用 OpenAI ChatGPT\n",
    "* LINE BOT 串接 OpenAI ChatGPT ( 讓 AI 回覆訊息 )\n",
    "* LINE BOT 串接 OpenAI ChatGPT ( 翻譯機器人 )"
   ]
  }
 ],
 "metadata": {
  "language_info": {
   "name": "python"
  }
 },
 "nbformat": 4,
 "nbformat_minor": 2
}
